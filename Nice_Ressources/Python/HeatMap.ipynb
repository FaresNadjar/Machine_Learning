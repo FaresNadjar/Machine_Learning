{
 "cells": [
  {
   "cell_type": "code",
   "execution_count": 10,
   "metadata": {},
   "outputs": [],
   "source": [
    "%matplotlib inline\n",
    "import pymongo\n",
    "import numpy as np\n",
    "import pandas as pd\n",
    "import matplotlib.pyplot as plt\n",
    "from matplotlib.patches import Arc\n",
    "import seaborn as sns\n",
    "import time"
   ]
  },
  {
   "cell_type": "code",
   "execution_count": 11,
   "metadata": {},
   "outputs": [],
   "source": [
    "myclient=pymongo.MongoClient(\"mongodb://localhost:27017/\")\n",
    "myStatsCol=myclient['STATS']['Events']\n",
    "myWhoCol=myclient['whoScored']['Events']"
   ]
  },
  {
   "cell_type": "code",
   "execution_count": 12,
   "metadata": {},
   "outputs": [],
   "source": [
    "def plot_field() :\n",
    "    \"\"\"This function will allow us to print the field to better understand the heatmap\"\"\"\n",
    "    #Create figure\n",
    "    fig=plt.figure()\n",
    "    fig.set_size_inches(10, 8)\n",
    "    ax=fig.add_subplot(1,1,1)\n",
    "\n",
    "    #Pitch Outline & Centre Line\n",
    "    plt.plot([0,0],[0,100], color=\"black\")\n",
    "    plt.plot([0,100],[100,100], color=\"black\")\n",
    "    plt.plot([100,100],[100,0], color=\"black\")\n",
    "    plt.plot([100,0],[0,0], color=\"black\")\n",
    "    plt.plot([50,50],[0,100], color=\"black\")\n",
    "\n",
    "    #Left Penalty Area\n",
    "    plt.plot([17,17],[78.9,21.1],color=\"black\")\n",
    "    plt.plot([0,17],[78.9,78.9],color=\"black\")\n",
    "    plt.plot([17,0],[21.1,21.1],color=\"black\")\n",
    "\n",
    "    #Right Penalty Area\n",
    "    plt.plot([100,83],[78.9,78.9],color=\"black\")\n",
    "    plt.plot([83,83],[78.9,21.1],color=\"black\")\n",
    "    plt.plot([83,100],[21.1,21.1],color=\"black\")\n",
    "\n",
    "    #Left 6-yard Box\n",
    "    plt.plot([0,5.8],[63.2,63.2],color=\"black\")\n",
    "    plt.plot([5.8,5.8],[63.2,36.8],color=\"black\")\n",
    "    plt.plot([5.8,0],[36.8,36.8],color=\"black\")\n",
    "\n",
    "    #Right 6-yard Box\n",
    "    plt.plot([100,94.2],[63.2,63.2],color=\"black\")\n",
    "    plt.plot([94.2,94.2],[63.2,36.8],color=\"black\")\n",
    "    plt.plot([94.2,100],[36.8,36.8],color=\"black\")\n",
    "\n",
    "    #Prepare Circles\n",
    "    centreCircle = plt.Circle((50,50),9.15,color=\"black\",fill=False)\n",
    "    centreSpot = plt.Circle((50,50),0.8,color=\"black\")\n",
    "    leftPenSpot = plt.Circle((11.5,50),0.8,color=\"black\")\n",
    "    rightPenSpot = plt.Circle((88.5,50),0.8,color=\"black\")\n",
    "\n",
    "    #Draw Circles\n",
    "    ax.add_patch(centreCircle)\n",
    "    ax.add_patch(centreSpot)\n",
    "    ax.add_patch(leftPenSpot)\n",
    "    ax.add_patch(rightPenSpot)\n",
    "\n",
    "    #Prepare Arcs\n",
    "    leftArc = Arc((11.5,50),height=18.3,width=18.3,angle=0,theta1=310,theta2=50,color=\"black\")\n",
    "    rightArc = Arc((88.5,50),height=18.3,width=18.3,angle=0,theta1=130,theta2=230,color=\"black\")\n",
    "\n",
    "    #Draw Arcs\n",
    "    ax.add_patch(leftArc)\n",
    "    ax.add_patch(rightArc)\n",
    "\n",
    "    #Tidy Axes\n",
    "    plt.axis('on')\n",
    "\n",
    "    #Explanation Of the Field \n",
    "    plt.xlabel('Defense ----------------------------------------------------------------------------------------------------------------------> Attack')\n"
   ]
  },
  {
   "cell_type": "code",
   "execution_count": 26,
   "metadata": {},
   "outputs": [],
   "source": [
    "def get_player_heatmap(player_id,game_id,provider) :\n",
    "    \"\"\"will provide a heatmap for player_id in his n games and return his centroid\"\"\"\n",
    "    if provider=='STATS' :\n",
    "        myCol=myStatsCol\n",
    "        points=[]\n",
    "        #x goes to 105 and y goes to 70 so we have to put them in a good format.\n",
    "        for k in myclient['STATS']['Events'].find({'gameId':game_id,'playerId':player_id}):\n",
    "            if 'x' in k and 'y' in k and k!=None :\n",
    "                tmp=myclient['STATS']['Events'].find_one({'gameId':game_id,'period':k['period'],'teamId':k['teamId'],'$or':[{'typeId':75},{'typeId':79}]})\n",
    "                x=k['x']/105*100\n",
    "                y=k['y']/70*100\n",
    "                if tmp!=None and tmp['x']<50 :\n",
    "                    y=100-y\n",
    "                elif tmp!=None and tmp['x']>50:\n",
    "                    x=100-x\n",
    "                points.append([x,y])\n",
    "    else:\n",
    "        myCol=myWhoCol\n",
    "        points=[]\n",
    "        for k in myCol.find({'gameId':i,'playerId':player_id}):\n",
    "            if 'x' in k and 'y' in k and k!=None :\n",
    "                points.append([k['x'],k['y']])\n",
    "    points=np.array(points)\n",
    "    #plot the field \n",
    "    plot_field()\n",
    "    #show the heatmap\n",
    "    sns.kdeplot(points[:,0],points[:,1] ,shade=True,shade_lowest=False,color='red')  \n",
    "    plt.xlim(0,100)\n",
    "    plt.ylim(0,100)\n",
    "    plt.show()\n",
    "    return points.mean(0)"
   ]
  },
  {
   "cell_type": "code",
   "execution_count": 27,
   "metadata": {},
   "outputs": [
    {
     "data": {
      "image/png": "[encoded data removed]",
      "text/plain": [
       "<Figure size 720x576 with 1 Axes>"
      ]
     },
     "metadata": {
      "needs_background": "light"
     },
     "output_type": "display_data"
    },
    {
     "data": {
      "text/plain": [
       "array([ 8.94596041, 51.54093098])"
      ]
     },
     "execution_count": 27,
     "metadata": {},
     "output_type": "execute_result"
    }
   ],
   "source": [
    "get_player_heatmap(373844.0,1546784,'STATS')"
   ]
  },
  {
   "cell_type": "code",
   "execution_count": 15,
   "metadata": {},
   "outputs": [
    {
     "data": {
      "text/plain": [
       "{'_id': '373844_1546784',\n",
       " 'playerId': 373844,\n",
       " 'isStarting': 1,\n",
       " 'minPlayed': 95.383333333,\n",
       " 'subbedIn': 0,\n",
       " 'subbedOut': 0,\n",
       " 'RedCard': 0,\n",
       " 'line': 1,\n",
       " 'side': 'home',\n",
       " 'teamId': 6157,\n",
       " 'gameId': 1546784,\n",
       " 'competitionId': 39,\n",
       " 'seasonId': 2015,\n",
       " 'formation': '4231',\n",
       " 'key': '373844_1546784',\n",
       " 'gameDate': datetime.datetime(2015, 8, 8, 11, 45),\n",
       " 'validData': True}"
      ]
     },
     "execution_count": 15,
     "metadata": {},
     "output_type": "execute_result"
    }
   ],
   "source": [
    "myclient['STATS']['playerPlayingEvent'].find_one()"
   ]
  },
  {
   "cell_type": "code",
   "execution_count": null,
   "metadata": {},
   "outputs": [],
   "source": []
  }
 ],
 "metadata": {
  "kernelspec": {
   "display_name": "Python 3",
   "language": "python",
   "name": "python3"
  },
  "language_info": {
   "codemirror_mode": {
    "name": "ipython",
    "version": 3
   },
   "file_extension": ".py",
   "mimetype": "text/x-python",
   "name": "python",
   "nbconvert_exporter": "python",
   "pygments_lexer": "ipython3",
   "version": "3.7.3"
  }
 },
 "nbformat": 4,
 "nbformat_minor": 2
}
